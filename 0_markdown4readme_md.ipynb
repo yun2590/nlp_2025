{
  "nbformat": 4,
  "nbformat_minor": 0,
  "metadata": {
    "colab": {
      "provenance": [],
      "include_colab_link": true
    },
    "kernelspec": {
      "name": "python3",
      "display_name": "Python 3"
    },
    "language_info": {
      "name": "python"
    }
  },
  "cells": [
    {
      "cell_type": "markdown",
      "metadata": {
        "id": "view-in-github",
        "colab_type": "text"
      },
      "source": [
        "<a href=\"https://colab.research.google.com/github/yun2590/nlp_2025/blob/main/0_markdown4readme_md.ipynb\" target=\"_parent\"><img src=\"https://colab.research.google.com/assets/colab-badge.svg\" alt=\"Open In Colab\"/></a>"
      ]
    },
    {
      "cell_type": "markdown",
      "source": [
        "##  **한남대학교**\n",
        "#📚**미디어 영상학과** 📹\n"
      ],
      "metadata": {
        "id": "nFyrb7heQOTL"
      }
    },
    {
      "cell_type": "markdown",
      "source": [
        "# **Department Introduction**\n",
        "\n",
        "<font color = 'pink'>_4차 산업 혁명_</font> 의 시대, <font color = 'pink'>_디지털트랜스포메이션_</font> 에 기반한 <font color = 'pink'>_인문, 기술, 예술 융합 현상_ </font>이 가속화되고 있으며 융합의 영역이 원천기술에서 진화되어 인간의 일상 생활에 광범위하게 확장되고 있는 시점이다. 이러한 융합 환경이 더 나은 인간 삶의 가치를 구현해감에 따라 커뮤니케이션 되는 정보를 위한 다양한 미디어를 기획하고 표현하는 첨단 <font color = 'pink'>_뉴미디어 콘텐츠 산업_</font> 이 발전하고 있다. 이에 따라 한남대학교 미디어영상학과는 글로벌 미디어 환경의 변화에 유기적으로 대응하는 기획력과 창의력, 제작능력을 겸비한 <font color = 'pink'>**미디어 콘텐츠 전문가**</font> 양성을 목표로 한다.\n"
      ],
      "metadata": {
        "id": "BRY-HDv4gQ96"
      }
    },
    {
      "cell_type": "markdown",
      "source": [
        "#**Curriculum**\n",
        "\n",
        "##<font color = 'sky blue'>**1st grade**\n",
        "* 디지털콘텐츠이해, 어드벤처디자인, 프로그래밍언어론, 웹프론트엔드이해, 미디어커뮤니케이션, 멀티미디어컴퓨터활용\n",
        "\n",
        "##<font color = 'green'>**2st grade**\n",
        "* 영상제작의이해, 컴퓨터그래픽Ⅰ, 3D애니메이션Ⅰ, 스크립트언어, 비주얼프로그래밍, 메타버스프로젝트, 타이포그래피, 디지털리티러시, 인터렉션디자인, 게임그래픽Ⅰ, 방송기획제작, 컴퓨터그래픽Ⅱ, XR프로젝트\n",
        "\n",
        "##<font color = 'yellow'>**3st grade**\n",
        "* 모션그래픽, 영상특수효과, 모바일컨텐츠제작, 게임그래픽Ⅱ, 광고기획과전략, 3D애니메이션Ⅱ, 사물인터넷, 방송타이틀그래픽, 특수영상제작, UX디자인, 영상제작실습, 미디어조사방법론\n",
        "\n",
        "##<font color = 'red'>**4st grade**\n",
        "* VJ영상프로젝트, 모션그래픽프로젝트, 특수영상프로젝트, 광고홍보영상프로젝트, 소프트웨어설계프로젝트, 3D영상세미나, 포트폴리오스튜디오, 특수영상세미나, 방송영상세미나, 산학프로젝트, XR융합캡스톤디자인\n"
      ],
      "metadata": {
        "id": "9_V3_8AMjh65"
      }
    },
    {
      "cell_type": "markdown",
      "source": [
        "#**Career Path After Graduation**\n",
        "\n",
        "글로벌 뉴미디어 환경의 유기적 대응을 통하여, 교육효율성을 극대화하고, 이를 직무분야 산업환경에 연계하는 선순환 교육구조를 통하여 매년 우수한 인재를 배출하고 있다. 대표적으로 지상파, 종합편성채널 등의 ‘방송사’ / 영화, 드라마 제작 등의 ‘영상콘텐츠제작사’ / 2D그래픽, 모션그래픽, 인터페이스제작 등의 ‘디지털 미디어 디자인 에이전시’ / 3D애니메이션, CG/VFX, XR콘텐츠, 메타버스콘텐츠 등의 ‘실감형 콘텐츠 제작사 CF, 온라인 미디어 마케팅 등의 ‘광고홍보대행사'웹, 애플리케이션 프로그래밍 등의‘프론트엔드, 백엔드 개발사’등 다양한 분야에 졸업생을 진출시키고 있다."
      ],
      "metadata": {
        "id": "OtctgkT2NOCS"
      }
    }
  ]
}